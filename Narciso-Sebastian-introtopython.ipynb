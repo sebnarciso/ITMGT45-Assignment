{
 "cells": [
  {
   "cell_type": "markdown",
   "metadata": {},
   "source": [
    "### Student Details\n",
    "1. Student ID: 183439\n",
    "2. Surname: Narciso\n",
    "3. Year and Course: 3 BS ITE\n",
    "\n",
    "\n"
   ]
  },
  {
   "cell_type": "code",
   "execution_count": null,
   "metadata": {},
   "outputs": [],
   "source": [
    "def three_number_average(x,y,z):\n",
    "    average=(x+y+z)/3\n",
    "    return average\n",
    "\n",
    "#Ask for first integer\n",
    "first=int(input(\"Enter first number: \"))\n",
    "            \n",
    "#Ask for second integer\n",
    "second=int(input(\"Enter second number: \"))\n",
    "\n",
    "#Ask for second integer\n",
    "third=int(input(\"Enter third number: \"))\n",
    "\n",
    "#get the average\n",
    "average=three_number_average(first, second, third)\n",
    "\n",
    "#print the average\n",
    "print(\"The average is\",average)"
   ]
  }
 ],
 "metadata": {
  "kernelspec": {
   "display_name": "Python 3",
   "language": "python",
   "name": "python3"
  },
  "language_info": {
   "codemirror_mode": {
    "name": "ipython",
    "version": 3
   },
   "file_extension": ".py",
   "mimetype": "text/x-python",
   "name": "python",
   "nbconvert_exporter": "python",
   "pygments_lexer": "ipython3",
   "version": "3.8.5"
  }
 },
 "nbformat": 4,
 "nbformat_minor": 4
}
