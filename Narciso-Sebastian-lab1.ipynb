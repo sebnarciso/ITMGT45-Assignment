{
 "cells": [
  {
   "cell_type": "markdown",
   "metadata": {},
   "source": [
    "### Student Details\n",
    "1. Student ID: 183439\n",
    "2. Surname: Narciso\n",
    "3. Year and Course: 3 BS ITE"
   ]
  },
  {
   "cell_type": "markdown",
   "metadata": {},
   "source": [
    "## Problem 1"
   ]
  },
  {
   "cell_type": "code",
   "execution_count": null,
   "metadata": {},
   "outputs": [],
   "source": [
    "def dollars_to_pesos(x):\n",
    "    pesos=x*50\n",
    "    return pesos"
   ]
  },
  {
   "cell_type": "code",
   "execution_count": null,
   "metadata": {},
   "outputs": [],
   "source": [
    "#Ask for initial dollar amount\n",
    "dollar=int(input(\"Enter the amount in US Dollars: \"))\n",
    "            \n",
    "#get the peso equivalent\n",
    "peso=dollars_to_pesos(dollar)\n",
    "\n",
    "#print the peso equivalent\n",
    "print(dollar,\"US dollar(s) =\",peso, \"Philippine Pesos\")"
   ]
  },
  {
   "cell_type": "markdown",
   "metadata": {},
   "source": [
    "## Problem 2"
   ]
  },
  {
   "cell_type": "code",
   "execution_count": null,
   "metadata": {},
   "outputs": [],
   "source": [
    "#Ask for the two positive integers\n",
    "first=int(input(\"Input the first positive integer: \"))\n",
    "second=int(input(\"Input the second positive integer: \"))\n",
    "\n",
    "print(first+second)\n",
    "print(first-second)\n",
    "print(first*second)\n",
    "print(first//second)\n",
    "print(first%second)"
   ]
  },
  {
   "cell_type": "markdown",
   "metadata": {},
   "source": [
    "## Problem 3"
   ]
  },
  {
   "cell_type": "code",
   "execution_count": null,
   "metadata": {},
   "outputs": [],
   "source": [
    "def convert_cm_to_m(cm):\n",
    "    m=cm/100\n",
    "    return m\n",
    "\n",
    "def compute_bmi(kg,m):\n",
    "    bmi=kg/(m**2)\n",
    "    return bmi"
   ]
  },
  {
   "cell_type": "code",
   "execution_count": null,
   "metadata": {},
   "outputs": [],
   "source": [
    "#Ask for the kg and cm\n",
    "first=int(input(\"Enter kg: \"))\n",
    "second=int(input(\"Enter cm: \"))\n",
    "\n",
    "m=convert_cm_to_m(second)\n",
    "\n",
    "bmi=compute_bmi(first, m)\n",
    "\n",
    "print(\"BMI:\", bmi)"
   ]
  }
 ],
 "metadata": {
  "kernelspec": {
   "display_name": "Python 3",
   "language": "python",
   "name": "python3"
  },
  "language_info": {
   "codemirror_mode": {
    "name": "ipython",
    "version": 3
   },
   "file_extension": ".py",
   "mimetype": "text/x-python",
   "name": "python",
   "nbconvert_exporter": "python",
   "pygments_lexer": "ipython3",
   "version": "3.8.5"
  }
 },
 "nbformat": 4,
 "nbformat_minor": 4
}
